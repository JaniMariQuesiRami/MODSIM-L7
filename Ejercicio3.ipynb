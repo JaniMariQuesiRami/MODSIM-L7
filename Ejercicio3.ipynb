{
 "cells": [
  {
   "cell_type": "code",
   "execution_count": null,
   "metadata": {},
   "outputs": [],
   "source": [
    "import Pkg\n",
    "Pkg.add(\"JuMP\")\n",
    "Pkg.add(\"GLPK\")"
   ]
  },
  {
   "cell_type": "markdown",
   "metadata": {},
   "source": [
    "# Problema i"
   ]
  },
  {
   "cell_type": "code",
   "execution_count": 2,
   "metadata": {},
   "outputs": [
    {
     "name": "stdout",
     "output_type": "stream",
     "text": [
      "Problema I\n",
      "Estado del modelo: OPTIMAL\n",
      "Costo total: 19.0\n",
      "Trabajador 1 realiza la tarea 1\n",
      "Trabajador 2 realiza la tarea 3\n",
      "Trabajador 3 realiza la tarea 2\n",
      "Trabajador 4 realiza la tarea 4\n",
      "Trabajador 5 realiza la tarea 5\n"
     ]
    }
   ],
   "source": [
    "using JuMP, GLPK\n",
    "\n",
    "# Matriz de costos del problema (i)\n",
    "cost = [\n",
    "    3 8 2 10 3;\n",
    "    6 5 2 7 5;\n",
    "    6 4 2 7 5;\n",
    "    8 4 2 3 5;\n",
    "    7 8 6 7 7\n",
    "]\n",
    "\n",
    "# Definir el problema de optimización\n",
    "model = Model(GLPK.Optimizer)\n",
    "\n",
    "# Número de trabajadores y tareas\n",
    "n_workers = size(cost, 1)\n",
    "n_tasks = size(cost, 2)\n",
    "\n",
    "# Variables de decisión: x[i,j] = 1 si el trabajador i realiza la tarea j, 0 de lo contrario\n",
    "@variable(model, x[1:n_workers, 1:n_tasks], Bin)\n",
    "\n",
    "# Función objetivo: minimizar el costo total de asignación\n",
    "@objective(model, Min, sum(cost[i, j] * x[i, j] for i in 1:n_workers for j in 1:n_tasks))\n",
    "\n",
    "# Restricción: cada trabajador debe realizar exactamente una tarea\n",
    "@constraint(model, [i in 1:n_workers], sum(x[i, j] for j in 1:n_tasks) == 1)\n",
    "\n",
    "# Restricción: cada tarea debe ser realizada por un único trabajador\n",
    "@constraint(model, [j in 1:n_tasks], sum(x[i, j] for i in 1:n_workers) == 1)\n",
    "\n",
    "# Resolver el modelo\n",
    "optimize!(model)\n",
    "\n",
    "# Mostrar resultados\n",
    "println(\"Problema I\")\n",
    "println(\"Estado del modelo: \", termination_status(model))\n",
    "println(\"Costo total: \", objective_value(model))\n",
    "\n",
    "# Mostrar la asignación de tareas para cada trabajador\n",
    "for i in 1:n_workers, j in 1:n_tasks\n",
    "    if value(x[i, j]) > 0.5\n",
    "        println(\"Trabajador \", i, \" realiza la tarea \", j)\n",
    "    end\n",
    "end\n"
   ]
  },
  {
   "cell_type": "markdown",
   "metadata": {},
   "source": [
    "# Problema ii"
   ]
  },
  {
   "cell_type": "code",
   "execution_count": 5,
   "metadata": {},
   "outputs": [
    {
     "name": "stdout",
     "output_type": "stream",
     "text": [
      "Problema II\n",
      "Estado del modelo: OPTIMAL\n",
      "Costo total: 10.0\n",
      "Trabajador 1 realiza la tarea 4\n",
      "Trabajador 2 realiza la tarea 2\n",
      "Trabajador 3 realiza la tarea 5\n",
      "Trabajador 4 realiza la tarea 1\n",
      "Trabajador 5 realiza la tarea 3\n"
     ]
    }
   ],
   "source": [
    "# Matriz de costos del problema (ii)\n",
    "cost2 = [\n",
    "    3 9 2 2 7;\n",
    "    6 1 5 6 6;\n",
    "    9 4 7 10 3;\n",
    "    2 5 4 2 1;\n",
    "    9 6 2 4 6\n",
    "]\n",
    "\n",
    "# Definir el problema de optimización\n",
    "model2 = Model(GLPK.Optimizer)\n",
    "\n",
    "# Número de trabajadores y tareas\n",
    "n_workers2 = size(cost2, 1)\n",
    "n_tasks2 = size(cost2, 2)\n",
    "\n",
    "# Variables de decisión: x[i,j] = 1 si el trabajador i realiza la tarea j, 0 de lo contrario\n",
    "@variable(model2, x[1:n_workers2, 1:n_tasks2], Bin)\n",
    "\n",
    "# Función objetivo: minimizar el costo total de asignación\n",
    "@objective(model2, Min, sum(cost2[i, j] * x[i, j] for i in 1:n_workers2 for j in 1:n_tasks2))\n",
    "\n",
    "# Restricción: cada trabajador debe realizar exactamente una tarea\n",
    "@constraint(model2, [i in 1:n_workers2], sum(x[i, j] for j in 1:n_tasks2) == 1)\n",
    "\n",
    "# Restricción: cada tarea debe ser realizada por un único trabajador\n",
    "@constraint(model2, [j in 1:n_tasks2], sum(x[i, j] for i in 1:n_workers2) == 1)\n",
    "\n",
    "# Resolver el modelo\n",
    "optimize!(model2)\n",
    "\n",
    "# Mostrar resultados\n",
    "println(\"Problema II\")\n",
    "println(\"Estado del modelo: \", termination_status(model2))\n",
    "println(\"Costo total: \", objective_value(model2))\n",
    "\n",
    "# Mostrar la asignación de tareas para cada trabajador\n",
    "for i in 1:n_workers2, j in 1:n_tasks2\n",
    "    if value(x[i, j]) > 0.5\n",
    "        println(\"Trabajador \", i, \" realiza la tarea \", j)\n",
    "    end\n",
    "end\n"
   ]
  }
 ],
 "metadata": {
  "kernelspec": {
   "display_name": "Julia 1.10.5",
   "language": "julia",
   "name": "julia-1.10"
  },
  "language_info": {
   "file_extension": ".jl",
   "mimetype": "application/julia",
   "name": "julia",
   "version": "1.10.5"
  }
 },
 "nbformat": 4,
 "nbformat_minor": 2
}
