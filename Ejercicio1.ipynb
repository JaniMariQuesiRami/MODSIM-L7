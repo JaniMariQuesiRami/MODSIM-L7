{
 "cells": [
  {
   "cell_type": "code",
   "execution_count": 2,
   "metadata": {},
   "outputs": [
    {
     "name": "stderr",
     "output_type": "stream",
     "text": [
      "\u001b[32m\u001b[1m   Resolving\u001b[22m\u001b[39m package versions...\n",
      "\u001b[32m\u001b[1m  No Changes\u001b[22m\u001b[39m to `C:\\Users\\javie\\.julia\\environments\\v1.10\\Project.toml`\n",
      "\u001b[32m\u001b[1m  No Changes\u001b[22m\u001b[39m to `C:\\Users\\javie\\.julia\\environments\\v1.10\\Manifest.toml`\n",
      "\u001b[32m\u001b[1m   Resolving\u001b[22m\u001b[39m package versions...\n",
      "\u001b[32m\u001b[1m  No Changes\u001b[22m\u001b[39m to `C:\\Users\\javie\\.julia\\environments\\v1.10\\Project.toml`\n",
      "\u001b[32m\u001b[1m  No Changes\u001b[22m\u001b[39m to `C:\\Users\\javie\\.julia\\environments\\v1.10\\Manifest.toml`\n",
      "\u001b[32m\u001b[1m   Resolving\u001b[22m\u001b[39m package versions...\n",
      "\u001b[32m\u001b[1m  No Changes\u001b[22m\u001b[39m to `C:\\Users\\javie\\.julia\\environments\\v1.10\\Project.toml`\n",
      "\u001b[32m\u001b[1m  No Changes\u001b[22m\u001b[39m to `C:\\Users\\javie\\.julia\\environments\\v1.10\\Manifest.toml`\n"
     ]
    }
   ],
   "source": [
    "import Pkg\n",
    "Pkg.add(\"JuMP\")\n",
    "Pkg.add(\"GLPK\")"
   ]
  },
  {
   "cell_type": "code",
   "execution_count": 5,
   "metadata": {},
   "outputs": [
    {
     "name": "stdout",
     "output_type": "stream",
     "text": [
      "Distribución óptima de automóviles:\n",
      "Desde centro 1 a concesionario 1: 0.0\n",
      "Desde centro 1 a concesionario 2: 6.0\n",
      "Desde centro 1 a concesionario 3: 0.0\n",
      "Desde centro 1 a concesionario 4: 9.0\n",
      "Desde centro 1 a concesionario 5: 8.0\n",
      "Desde centro 2 a concesionario 1: 0.0\n",
      "Desde centro 2 a concesionario 2: 3.0\n",
      "Desde centro 2 a concesionario 3: 9.0\n",
      "Desde centro 2 a concesionario 4: 0.0\n",
      "Desde centro 2 a concesionario 5: 0.0\n",
      "Desde centro 3 a concesionario 1: 6.0\n",
      "Desde centro 3 a concesionario 2: 3.0\n",
      "Desde centro 3 a concesionario 3: 0.0\n",
      "Desde centro 3 a concesionario 4: 0.0\n",
      "Desde centro 3 a concesionario 5: 0.0\n",
      "Costo total: 92500.0\n"
     ]
    }
   ],
   "source": [
    "using JuMP, GLPK\n",
    "\n",
    "# Definir los datos\n",
    "oferta = [400, 200, 150]  # oferta de cada centro\n",
    "demanda = [100, 200, 150, 160, 140]  # demanda de cada concesionario\n",
    "distancias = [\n",
    "    [100, 150, 200, 140, 35],  # Distancias desde centro 1\n",
    "    [50, 70, 60, 65, 80],      # Distancias desde centro 2\n",
    "    [40, 90, 100, 150, 130]    # Distancias desde centro 3\n",
    "]\n",
    "\n",
    "# Convertir a camiones\n",
    "oferta = [ceil(value/18) for value in oferta] \n",
    "demanda = [ceil(value/18) for value in demanda]  \n",
    "\n",
    "# Convertimos las distancias a costos multiplicándolas por 25 (costo por milla)\n",
    "costo = [d .* 25 for d in distancias]\n",
    "\n",
    "# Crear el modelo\n",
    "model = Model(GLPK.Optimizer)\n",
    "\n",
    "# Definimos las variables de decisión: cantidad enviada de cada centro a cada concesionario\n",
    "@variable(model, x[1:3, 1:5] >= 0)  # x[i,j] es la cantidad enviada desde centro i a concesionario j\n",
    "\n",
    "# Definimos la función objetivo: minimizar el costo total de transporte\n",
    "@objective(model, Min, sum(x[i,j] * costo[i][j] for i in 1:3, j in 1:5))\n",
    "\n",
    "# Restricciones de oferta: no se puede enviar más de lo disponible en cada centro\n",
    "for i in 1:3\n",
    "    @constraint(model, sum(x[i,j] for j in 1:5) <= oferta[i])\n",
    "end\n",
    "\n",
    "# Restricciones de demanda: cada concesionario debe recibir lo que necesita\n",
    "for j in 1:5\n",
    "    @constraint(model, sum(x[i,j] for i in 1:3) == demanda[j])\n",
    "end\n",
    "\n",
    "# Resolución del problema\n",
    "optimize!(model)\n",
    "\n",
    "println(\"Distribución óptima de automóviles:\")\n",
    "for i in 1:3\n",
    "    for j in 1:5\n",
    "        println(\"Desde centro $i a concesionario $j: \", value(x[i,j]))\n",
    "    end\n",
    "end\n",
    "\n",
    "println(\"Costo total: \", objective_value(model))\n"
   ]
  }
 ],
 "metadata": {
  "kernelspec": {
   "display_name": "Julia 1.10.5",
   "language": "julia",
   "name": "julia-1.10"
  },
  "language_info": {
   "file_extension": ".jl",
   "mimetype": "application/julia",
   "name": "julia",
   "version": "1.10.5"
  }
 },
 "nbformat": 4,
 "nbformat_minor": 2
}
